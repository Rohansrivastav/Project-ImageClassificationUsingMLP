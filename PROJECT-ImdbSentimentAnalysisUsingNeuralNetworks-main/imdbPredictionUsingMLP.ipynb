{
  "nbformat": 4,
  "nbformat_minor": 0,
  "metadata": {
    "colab": {
      "name": "imdbpredictionusingneuralnet.ipynb",
      "provenance": []
    },
    "kernelspec": {
      "name": "python3",
      "display_name": "Python 3"
    },
    "language_info": {
      "name": "python"
    },
    "accelerator": "TPU"
  },
  "cells": [
    {
      "cell_type": "code",
      "metadata": {
        "id": "iIa89vBcbYbq"
      },
      "source": [
        "from keras.datasets import imdb"
      ],
      "execution_count": 132,
      "outputs": []
    },
    {
      "cell_type": "markdown",
      "metadata": {
        "id": "ymRKneeQcJwA"
      },
      "source": [
        "DATA PREPARATION\n"
      ]
    },
    {
      "cell_type": "code",
      "metadata": {
        "id": "1648xidacANr"
      },
      "source": [
        "((x_train,y_train),(x_test,y_test))=imdb.load_data(num_words=10000)"
      ],
      "execution_count": 133,
      "outputs": []
    },
    {
      "cell_type": "code",
      "metadata": {
        "colab": {
          "base_uri": "https://localhost:8080/"
        },
        "id": "ha8aGMj2cFWT",
        "outputId": "f198c98c-ef42-4b53-bcd3-ab497af68ac1"
      },
      "source": [
        "len(x_train),len(x_test)"
      ],
      "execution_count": 134,
      "outputs": [
        {
          "output_type": "execute_result",
          "data": {
            "text/plain": [
              "(25000, 25000)"
            ]
          },
          "metadata": {},
          "execution_count": 134
        }
      ]
    },
    {
      "cell_type": "code",
      "metadata": {
        "id": "1A3BJJcQcFgH"
      },
      "source": [
        " word_index=imdb.get_word_index()"
      ],
      "execution_count": 135,
      "outputs": []
    },
    {
      "cell_type": "code",
      "metadata": {
        "id": "GHiiVeHst-Ui"
      },
      "source": [
        "index_word=dict([value,key] for (key,value)in word_index.items() )"
      ],
      "execution_count": 136,
      "outputs": []
    },
    {
      "cell_type": "code",
      "metadata": {
        "id": "l6WZW__UuY5Z"
      },
      "source": [
        "actual_review=' '.join([index_word.get(idx-3,' ') for idx in x_train[0]])"
      ],
      "execution_count": 137,
      "outputs": []
    },
    {
      "cell_type": "code",
      "metadata": {
        "colab": {
          "base_uri": "https://localhost:8080/"
        },
        "id": "ZdBfvNcfxJ5x",
        "outputId": "45525b40-0fc2-4906-af2c-3cdf9fa5bcf3"
      },
      "source": [
        "print(actual_review)"
      ],
      "execution_count": 138,
      "outputs": [
        {
          "output_type": "stream",
          "name": "stdout",
          "text": [
            "  this film was just brilliant casting location scenery story direction everyone's really suited the part they played and you could just imagine being there robert   is an amazing actor and now the same being director   father came from the same scottish island as myself so i loved the fact there was a real connection with this film the witty remarks throughout the film were great it was just brilliant so much that i bought the film as soon as it was released for   and would recommend it to everyone to watch and the fly fishing was amazing really cried at the end it was so sad and you know what they say if you cry at a film it must have been good and this definitely was also   to the two little boy's that played the   of norman and paul they were just brilliant children are often left out of the   list i think because the stars that play them all grown up are such a big profile for the whole film but these children are amazing and should be praised for what they have done don't you think the whole story was so lovely because it was true and was someone's life after all that was shared with us all\n"
          ]
        }
      ]
    },
    {
      "cell_type": "code",
      "metadata": {
        "id": "NLxan3Tl0z_c"
      },
      "source": [
        "import numpy as np"
      ],
      "execution_count": 139,
      "outputs": []
    },
    {
      "cell_type": "code",
      "metadata": {
        "id": "s9KjrUyY2SGG"
      },
      "source": [
        "def vectorize_sentence(sentences,dim=10000):\n",
        "  outputs=np.zeros((len(sentences),dim))\n",
        "  for i,idx in enumerate(sentences):\n",
        "    outputs[i,idx]=1\n",
        "  return outputs  \n"
      ],
      "execution_count": 140,
      "outputs": []
    },
    {
      "cell_type": "code",
      "metadata": {
        "id": "GUphTCQt3AwY"
      },
      "source": [
        "train_vec=vectorize_sentence(x_train)\n",
        "test_vec=vectorize_sentence(x_test)"
      ],
      "execution_count": 141,
      "outputs": []
    },
    {
      "cell_type": "code",
      "metadata": {
        "colab": {
          "base_uri": "https://localhost:8080/"
        },
        "id": "HP8Op5X33PJE",
        "outputId": "c6ae21bd-f3c6-4818-9456-49f018197aa3"
      },
      "source": [
        "train_vec.shape,test_vec.shape"
      ],
      "execution_count": 142,
      "outputs": [
        {
          "output_type": "execute_result",
          "data": {
            "text/plain": [
              "((25000, 10000), (25000, 10000))"
            ]
          },
          "metadata": {},
          "execution_count": 142
        }
      ]
    },
    {
      "cell_type": "code",
      "metadata": {
        "id": "bUJIKYxY3liE"
      },
      "source": [
        "from keras import models\n",
        "from keras.layers import Dense"
      ],
      "execution_count": 143,
      "outputs": []
    },
    {
      "cell_type": "markdown",
      "metadata": {
        "id": "5dGvPFX9-P_Q"
      },
      "source": [
        "CREATING A 3 LAYER NETWORK WITH HIDDEN LAYERS HAVING ACTIVATION FUNCTION AS RELU AND THE OUTPUT LAYER HAVING SIGMOID AS ITS ACTIVATION FUNCTION\n"
      ]
    },
    {
      "cell_type": "code",
      "metadata": {
        "id": "kVthNtxj6yKs"
      },
      "source": [
        "model=models.Sequential()\n",
        "model.add(Dense(16,activation='relu',input_shape=(10000,)))\n",
        "model.add(Dense(16,activation='relu'))\n",
        "model.add(Dense(1,activation='sigmoid'))\n"
      ],
      "execution_count": 144,
      "outputs": []
    },
    {
      "cell_type": "code",
      "metadata": {
        "id": "8fnyJH05_X6D"
      },
      "source": [
        "model.compile(optimizer='rmsprop',loss='binary_crossentropy',metrics=['accuracy'])"
      ],
      "execution_count": 145,
      "outputs": []
    },
    {
      "cell_type": "code",
      "metadata": {
        "colab": {
          "base_uri": "https://localhost:8080/"
        },
        "id": "zu3s5Od-BNSX",
        "outputId": "2dab09a9-30b3-445d-8436-984f9f95f202"
      },
      "source": [
        "model.summary()"
      ],
      "execution_count": 146,
      "outputs": [
        {
          "output_type": "stream",
          "name": "stdout",
          "text": [
            "Model: \"sequential_3\"\n",
            "_________________________________________________________________\n",
            " Layer (type)                Output Shape              Param #   \n",
            "=================================================================\n",
            " dense_11 (Dense)            (None, 16)                160016    \n",
            "                                                                 \n",
            " dense_12 (Dense)            (None, 16)                272       \n",
            "                                                                 \n",
            " dense_13 (Dense)            (None, 1)                 17        \n",
            "                                                                 \n",
            "=================================================================\n",
            "Total params: 160,305\n",
            "Trainable params: 160,305\n",
            "Non-trainable params: 0\n",
            "_________________________________________________________________\n"
          ]
        }
      ]
    },
    {
      "cell_type": "markdown",
      "metadata": {
        "id": "5Rzob7POVum9"
      },
      "source": [
        "Training and Validation"
      ]
    },
    {
      "cell_type": "markdown",
      "metadata": {
        "id": "OyTvYurpXDV9"
      },
      "source": [
        "TO AVOID OVERFITTING , WE WILL GIVE 5000 DATA POINTS FOR VALIDATION AND 20000 FOR THE TRAINING "
      ]
    },
    {
      "cell_type": "code",
      "metadata": {
        "id": "gxDPJcm6VpfT"
      },
      "source": [
        "x_valid=train_vec[:5000]\n",
        "new_x_train=train_vec[5000:]\n",
        "y_valid=y_train[:5000]\n",
        "new_y_train=y_train[5000:]\n"
      ],
      "execution_count": 147,
      "outputs": []
    },
    {
      "cell_type": "code",
      "metadata": {
        "colab": {
          "base_uri": "https://localhost:8080/"
        },
        "id": "v7m2kYs7V-Ea",
        "outputId": "82a5e714-367f-45fe-a284-8d24906a924a"
      },
      "source": [
        "hist=model.fit(new_x_train,new_y_train,epochs=20,batch_size=512,validation_data=(x_valid,y_valid))"
      ],
      "execution_count": null,
      "outputs": [
        {
          "output_type": "stream",
          "name": "stdout",
          "text": [
            "Epoch 1/20\n",
            "40/40 [==============================] - 4s 65ms/step - loss: 0.5028 - accuracy: 0.8028 - val_loss: 0.3707 - val_accuracy: 0.8702\n",
            "Epoch 2/20\n",
            "40/40 [==============================] - 1s 34ms/step - loss: 0.2901 - accuracy: 0.9024 - val_loss: 0.3215 - val_accuracy: 0.8686\n",
            "Epoch 3/20\n",
            "40/40 [==============================] - 1s 35ms/step - loss: 0.2157 - accuracy: 0.9251 - val_loss: 0.2916 - val_accuracy: 0.8812\n",
            "Epoch 4/20\n",
            "40/40 [==============================] - 1s 34ms/step - loss: 0.1747 - accuracy: 0.9399 - val_loss: 0.3343 - val_accuracy: 0.8704\n",
            "Epoch 5/20\n",
            "40/40 [==============================] - 1s 35ms/step - loss: 0.1475 - accuracy: 0.9495 - val_loss: 0.2813 - val_accuracy: 0.8920\n",
            "Epoch 6/20\n",
            "40/40 [==============================] - 2s 41ms/step - loss: 0.1257 - accuracy: 0.9581 - val_loss: 0.2926 - val_accuracy: 0.8904\n",
            "Epoch 7/20\n",
            "40/40 [==============================] - 2s 44ms/step - loss: 0.1104 - accuracy: 0.9622 - val_loss: 0.3077 - val_accuracy: 0.8876\n",
            "Epoch 8/20\n",
            "40/40 [==============================] - 2s 46ms/step - loss: 0.0939 - accuracy: 0.9697 - val_loss: 0.3453 - val_accuracy: 0.8810\n",
            "Epoch 9/20\n",
            "40/40 [==============================] - 2s 45ms/step - loss: 0.0816 - accuracy: 0.9746 - val_loss: 0.3537 - val_accuracy: 0.8828\n",
            "Epoch 10/20\n",
            "40/40 [==============================] - 1s 33ms/step - loss: 0.0708 - accuracy: 0.9786 - val_loss: 0.3843 - val_accuracy: 0.8800\n",
            "Epoch 11/20\n",
            "40/40 [==============================] - 1s 37ms/step - loss: 0.0644 - accuracy: 0.9805 - val_loss: 0.4375 - val_accuracy: 0.8724\n",
            "Epoch 12/20\n",
            "40/40 [==============================] - 1s 35ms/step - loss: 0.0524 - accuracy: 0.9862 - val_loss: 0.4378 - val_accuracy: 0.8762\n",
            "Epoch 13/20\n",
            "40/40 [==============================] - 1s 36ms/step - loss: 0.0462 - accuracy: 0.9875 - val_loss: 0.4612 - val_accuracy: 0.8722\n",
            "Epoch 14/20\n",
            "40/40 [==============================] - 1s 35ms/step - loss: 0.0401 - accuracy: 0.9890 - val_loss: 0.4912 - val_accuracy: 0.8708\n",
            "Epoch 15/20\n",
            "40/40 [==============================] - 1s 35ms/step - loss: 0.0307 - accuracy: 0.9929 - val_loss: 0.5421 - val_accuracy: 0.8692\n",
            "Epoch 16/20\n",
            "40/40 [==============================] - 1s 35ms/step - loss: 0.0297 - accuracy: 0.9930 - val_loss: 0.5685 - val_accuracy: 0.8676\n",
            "Epoch 17/20\n",
            "40/40 [==============================] - 1s 35ms/step - loss: 0.0230 - accuracy: 0.9944 - val_loss: 0.6008 - val_accuracy: 0.8670\n",
            "Epoch 18/20\n",
            "40/40 [==============================] - 1s 36ms/step - loss: 0.0207 - accuracy: 0.9955 - val_loss: 0.6363 - val_accuracy: 0.8672\n",
            "Epoch 19/20\n",
            "40/40 [==============================] - 1s 35ms/step - loss: 0.0171 - accuracy: 0.9965 - val_loss: 0.6793 - val_accuracy: 0.8636\n",
            "Epoch 20/20\n",
            "40/40 [==============================] - 1s 34ms/step - loss: 0.0124 - accuracy: 0.9982 - val_loss: 0.7283 - val_accuracy: 0.8622\n"
          ]
        }
      ]
    },
    {
      "cell_type": "code",
      "metadata": {
        "id": "N29GN4P6ZfDz"
      },
      "source": [
        "import matplotlib.pyplot as plt"
      ],
      "execution_count": null,
      "outputs": []
    },
    {
      "cell_type": "code",
      "metadata": {
        "id": "UiiUKh4fZ_6H"
      },
      "source": [
        "h=hist.history"
      ],
      "execution_count": 110,
      "outputs": []
    },
    {
      "cell_type": "code",
      "metadata": {
        "id": "_1nDZ2XxaQG4",
        "colab": {
          "base_uri": "https://localhost:8080/",
          "height": 279
        },
        "outputId": "c12ac1f7-eeb6-4e25-d56f-bf0ebf837e7e"
      },
      "source": [
        "plt.plot(h['val_loss'],label=\"ValidationLoss\")\n",
        "plt.plot(h['loss'],label=\"TrainingLoss\")\n",
        "plt.xlabel(\"Epochs\")\n",
        "plt.ylabel(\"Loss\")\n",
        "plt.legend()\n",
        "plt.show()"
      ],
      "execution_count": 111,
      "outputs": [
        {
          "output_type": "display_data",
          "data": {
            "image/png": "[encoded data removed]",
            "text/plain": [
              "<Figure size 432x288 with 1 Axes>"
            ]
          },
          "metadata": {
            "needs_background": "light"
          }
        }
      ]
    },
    {
      "cell_type": "code",
      "metadata": {
        "colab": {
          "base_uri": "https://localhost:8080/",
          "height": 279
        },
        "id": "ZlybOwq4bMVC",
        "outputId": "95c8aab2-85b8-4fa7-ca05-e5ec760a4611"
      },
      "source": [
        "plt.plot(h['val_accuracy'],label=\"ValidationAccuracy\")\n",
        "plt.plot(h['accuracy'],label=\"TrainingAccuracy\")\n",
        "plt.xlabel(\"Epochs\")\n",
        "plt.ylabel(\"Accuracies\")\n",
        "plt.legend()\n",
        "plt.show()"
      ],
      "execution_count": 114,
      "outputs": [
        {
          "output_type": "display_data",
          "data": {
            "image/png": "[encoded data removed]",
            "text/plain": [
              "<Figure size 432x288 with 1 Axes>"
            ]
          },
          "metadata": {
            "needs_background": "light"
          }
        }
      ]
    },
    {
      "cell_type": "markdown",
      "metadata": {
        "id": "UZsE63KdcAxJ"
      },
      "source": [
        "We can see here that after approximately 4 epochs , the validation accuracy is decreasing continously , hence we can set the epochs to be 4"
      ]
    },
    {
      "cell_type": "code",
      "metadata": {
        "colab": {
          "base_uri": "https://localhost:8080/"
        },
        "id": "zw8b1PQYbj6d",
        "outputId": "edf3d332-a73c-4253-fc06-1de3479d8db5"
      },
      "source": [
        "hist=model.fit(new_x_train,new_y_train,epochs=4,batch_size=512,validation_data=(x_valid,y_valid))\n",
        "h=hist.history"
      ],
      "execution_count": 148,
      "outputs": [
        {
          "output_type": "stream",
          "name": "stdout",
          "text": [
            "Epoch 1/4\n",
            "40/40 [==============================] - 2s 40ms/step - loss: 0.4930 - accuracy: 0.8058 - val_loss: 0.3811 - val_accuracy: 0.8552\n",
            "Epoch 2/4\n",
            "40/40 [==============================] - 1s 34ms/step - loss: 0.2826 - accuracy: 0.9060 - val_loss: 0.2875 - val_accuracy: 0.8878\n",
            "Epoch 3/4\n",
            "40/40 [==============================] - 1s 35ms/step - loss: 0.2113 - accuracy: 0.9267 - val_loss: 0.3793 - val_accuracy: 0.8446\n",
            "Epoch 4/4\n",
            "40/40 [==============================] - 1s 34ms/step - loss: 0.1719 - accuracy: 0.9414 - val_loss: 0.2944 - val_accuracy: 0.8848\n"
          ]
        }
      ]
    },
    {
      "cell_type": "code",
      "metadata": {
        "colab": {
          "base_uri": "https://localhost:8080/",
          "height": 279
        },
        "id": "dKpa3Yh_chsb",
        "outputId": "893a227d-c09b-491f-b022-a62ee05e0d29"
      },
      "source": [
        "plt.plot(h['val_loss'],label=\"ValidationLoss\")\n",
        "plt.plot(h['loss'],label=\"TrainingLoss\")\n",
        "plt.xlabel(\"Epochs\")\n",
        "plt.ylabel(\"Loss\")\n",
        "plt.legend()\n",
        "plt.show()"
      ],
      "execution_count": 149,
      "outputs": [
        {
          "output_type": "display_data",
          "data": {
            "image/png": "[encoded data removed]",
            "text/plain": [
              "<Figure size 432x288 with 1 Axes>"
            ]
          },
          "metadata": {
            "needs_background": "light"
          }
        }
      ]
    },
    {
      "cell_type": "code",
      "metadata": {
        "colab": {
          "base_uri": "https://localhost:8080/",
          "height": 279
        },
        "id": "HSErWMmFcloZ",
        "outputId": "10d52152-54d1-4d93-fa70-dfcd8c656313"
      },
      "source": [
        "plt.plot(h['val_accuracy'],label=\"ValidationAccuracy\")\n",
        "plt.plot(h['accuracy'],label=\"TrainingAccuracy\")\n",
        "plt.xlabel(\"Epochs\")\n",
        "plt.ylabel(\"Accuracies\")\n",
        "plt.legend()\n",
        "plt.show()"
      ],
      "execution_count": 150,
      "outputs": [
        {
          "output_type": "display_data",
          "data": {
            "image/png": "[encoded data removed]",
            "text/plain": [
              "<Figure size 432x288 with 1 Axes>"
            ]
          },
          "metadata": {
            "needs_background": "light"
          }
        }
      ]
    },
    {
      "cell_type": "code",
      "metadata": {
        "colab": {
          "base_uri": "https://localhost:8080/"
        },
        "id": "xLBt2eY6dGj7",
        "outputId": "2dd0298e-58a7-477b-cf63-6506fe8b2635"
      },
      "source": [
        "model.evaluate(test_vec,y_test)"
      ],
      "execution_count": 151,
      "outputs": [
        {
          "output_type": "stream",
          "name": "stdout",
          "text": [
            "782/782 [==============================] - 2s 3ms/step - loss: 0.3121 - accuracy: 0.8754\n"
          ]
        },
        {
          "output_type": "execute_result",
          "data": {
            "text/plain": [
              "[0.3121354579925537, 0.8754400014877319]"
            ]
          },
          "metadata": {},
          "execution_count": 151
        }
      ]
    },
    {
      "cell_type": "markdown",
      "metadata": {
        "id": "IArTyRv9dX1M"
      },
      "source": [
        "Our testing accuracy is roughly 87%\n"
      ]
    },
    {
      "cell_type": "code",
      "metadata": {
        "colab": {
          "base_uri": "https://localhost:8080/"
        },
        "id": "qU6EbNdqdeAD",
        "outputId": "4d4c8171-24e3-45a8-e31c-6b30bf28b7b0"
      },
      "source": [
        "model.evaluate(train_vec,y_train)"
      ],
      "execution_count": 153,
      "outputs": [
        {
          "output_type": "stream",
          "name": "stdout",
          "text": [
            "782/782 [==============================] - 2s 3ms/step - loss: 0.1815 - accuracy: 0.9345\n"
          ]
        },
        {
          "output_type": "execute_result",
          "data": {
            "text/plain": [
              "[0.18148095905780792, 0.9344800114631653]"
            ]
          },
          "metadata": {},
          "execution_count": 153
        }
      ]
    }
  ]
}